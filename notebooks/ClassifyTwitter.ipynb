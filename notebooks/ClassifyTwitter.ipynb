{
 "cells": [
  {
   "cell_type": "code",
   "execution_count": null,
   "metadata": {
    "collapsed": true
   },
   "outputs": [],
   "source": [
    "options(warn=-1) #turn off warnings globally for the notebook"
   ]
  },
  {
   "cell_type": "code",
   "execution_count": null,
   "metadata": {
    "collapsed": false
   },
   "outputs": [],
   "source": [
    "library(\"twitteR\")\n",
    "library(\"plyr\")\n",
    "library(\"stringr\")\n",
    "library(\"httr\")\n"
   ]
  },
  {
   "cell_type": "code",
   "execution_count": null,
   "metadata": {
    "collapsed": false
   },
   "outputs": [],
   "source": [
    "library(\"couchDB\")"
   ]
  },
  {
   "cell_type": "code",
   "execution_count": null,
   "metadata": {
    "collapsed": true
   },
   "outputs": [],
   "source": [
    "library(xtable)"
   ]
  },
  {
   "cell_type": "code",
   "execution_count": null,
   "metadata": {
    "collapsed": true
   },
   "outputs": [],
   "source": [
    "sqlContext <- sparkRSQL.init(sc)"
   ]
  },
  {
   "cell_type": "code",
   "execution_count": null,
   "metadata": {
    "collapsed": false
   },
   "outputs": [],
   "source": [
    "myconn <- couch_http_connection(host = \"XXXX-bluemix.cloudant.com\", port = 443, https = TRUE,\n",
    "service = \"cloudant\", user = \"XXXX-bluemix\", password = \"XXXX\")\n",
    "\n",
    "couch_list_databases(myconn)\n",
    "\n",
    "print(myconn)\n"
   ]
  },
  {
   "cell_type": "code",
   "execution_count": null,
   "metadata": {
    "collapsed": false
   },
   "outputs": [],
   "source": [
    "results <- couch_fetch(myconn, database = \"tweets2/_all_docs\", key = NULL, myOpts = NULL)\n",
    "results_df <- data.frame(results)\n",
    "df <- createDataFrame(sqlContext, results_df)"
   ]
  },
  {
   "cell_type": "code",
   "execution_count": null,
   "metadata": {
    "collapsed": false
   },
   "outputs": [],
   "source": [
    "typeof(results)\n",
    "\n",
    "keys_list <- data.frame(results)\n",
    "print(keys_list[,'total_rows'])\n",
    "#print(keys_list[,'rows.key.3'])\n",
    "rows_df_2 <- data.frame()\n",
    "\n",
    "    #for (i in 1:(keys_list[,'total_rows'] - 1) ){\n",
    "    \t\n",
    "    \t   for (i in 1:100 ){\n",
    "        #print(i)\n",
    "        key <- paste('rows.key.',i,sep=\"\")\n",
    "        docs <- couch_fetch(myconn, database = \"tweets2\", key = keys_list[,key], myOpts = NULL)   \n",
    " \n",
    "        rows_df <- data.frame(docs)  \n",
    "        rows_df_2 <- rbind(rows_df_2,rows_df)\n",
    "    \n",
    "    }\n",
    "\n",
    "df2 <- createDataFrame(sqlContext, rows_df_2)\n",
    "#printSchema(df2)\n",
    "#showDF(df2)\n",
    "\n",
    "\n",
    "registerTempTable(df2,\"tweets\")\n"
   ]
  },
  {
   "cell_type": "code",
   "execution_count": null,
   "metadata": {
    "collapsed": true
   },
   "outputs": [],
   "source": [
    "negative <- c(\"Anger\",\"Disgust\",\"Fear\",\"Sadness\",\"Tentative\",\"Emotional Range\")\n",
    "positive <- c(\"Joy\",\"Analytical\",\"Confident\",\"Openness\",\"Conscientiousness\",\"Extraversion\",\"Agreeableness\")\n"
   ]
  },
  {
   "cell_type": "code",
   "execution_count": null,
   "metadata": {
    "collapsed": true
   },
   "outputs": [],
   "source": [
    "toneanalyzer_url=\"https://gateway.watsonplatform.net/tone-analyzer/api/v3/tone?version=2016-05-19\"\n",
    "username = \"XXXX\" # your own here \n",
    "password = \"XXXX\"  # your own here \n",
    "username_password = paste(username,\":\",password,sep=\"\")\n"
   ]
  },
  {
   "cell_type": "code",
   "execution_count": null,
   "metadata": {
    "collapsed": true
   },
   "outputs": [],
   "source": [
    "tone_analyzer <- function(text){\n",
    "\t\n",
    "\tresponse <- POST(url=toneanalyzer_url,authenticate(username,password),add_headers(\"Content-Type\"=\"text/plain\",\"charset\"=\"utf-8\" ),body = text)\n",
    "\n",
    "\tdata <- content(response)\n",
    "\n",
    "return(data)\n",
    "}\n"
   ]
  },
  {
   "cell_type": "code",
   "execution_count": null,
   "metadata": {
    "collapsed": true
   },
   "outputs": [],
   "source": [
    "compute_score <- function(data){\n",
    "\ttonedata <- as.data.frame(data$document_tone$tone_categories)\n",
    "\n",
    "    scorelist <- list()\n",
    "\tscorenames <- list()\n",
    "\n",
    "\tscore <- \"tones.score\"\n",
    "\ttone_name <- \"tones.tone_name\"\n",
    "\n",
    "\tscorelist[1] <- tonedata[score] * 100\n",
    "\tscorenames[1] <- toString(tonedata[1,tone_name])\n",
    "\t\t\n",
    "\tfor(i in 2:13){ \n",
    "\n",
    "\t\t\tscore <- str_replace(paste('tones.score.',(i-1)), ' ', '') \n",
    "\t\t\ttone_name <- str_replace(paste('tones.tone_name.',(i-1)), ' ', '') \n",
    "\t\t\n",
    "\t\t\t#print(tonedata[score]) \n",
    "\t\t\t#print(tonedata[tone_name])\n",
    "\t\t\tscorelist[i] <- tonedata[score] * 100\n",
    "\t\t\tscorenames[i] <- toString(tonedata[1,tone_name])\n",
    "\t\t}\n",
    "\t\t\n",
    "\tdf_scorelist <- as.data.frame(scorelist)\n",
    "\tscorenames <-unlist(scorenames)\n",
    "\t\t\n",
    "\tcolnames(df_scorelist) <- scorenames\t\n",
    "\n",
    "return(df_scorelist)\n",
    "\t\n",
    "}"
   ]
  },
  {
   "cell_type": "code",
   "execution_count": null,
   "metadata": {
    "collapsed": true
   },
   "outputs": [],
   "source": [
    "test_tone <- function(df_scorelist){\n",
    "\t# valid values are neutral, +ve and -ve\n",
    "\t# if either 3 or more emotions are greater than 50% in negative or positive group count as that group\n",
    "\t# if either emotion is greater than 85% counts as that group\n",
    "\t# if both +ve and -ve are true that tweet is neutral\n",
    "\n",
    "test_result <- \"NEUTRAL\"\n",
    "\n",
    "j <- 0\n",
    "\n",
    "for(i in 1:length(negative)){\n",
    "\t\n",
    "\tif(df_scorelist[negative[i]] > 85){\n",
    "\t\t#print(\"Emotion > 85% is \")\n",
    "\t\t#print(negative[i])\n",
    "\t\ttest_result <- \"NEGATIVE\"\n",
    "\t}else if(df_scorelist[negative[i]] > 50){\n",
    "\t\tj <- j + 1\n",
    "\t}\n",
    "}\n",
    "if(j > 3){\n",
    "\ttest_result <- \"NEGATIVE\"\n",
    "}\n",
    "\n",
    "j <- 0\n",
    "\n",
    "for(i in 1:length(positive)){\n",
    "\t\n",
    "\t\n",
    "\t\t\tif(df_scorelist[positive[i]] > 85){\n",
    "\t\t\t\t#print(\"Emotion > 85% is \")\n",
    "\t\t\t\t#print(positive[i])\n",
    "\t\t\t\tif(str_detect(test_result,\"NEUTRAL\"))\t{\n",
    "\t\t\t\ttest_result <- \"POSITIVE\"\n",
    "\t\t\t\tbreak\n",
    "\t\t\t\t}else if(str_detect(test_result,\"NEGATIVE\")){\n",
    "\t\t\t\t\ttest_result <- \"NEUTRAL\" # both -ve and +ve are quite high\n",
    "\t\t\t\t\tbreak\n",
    "\t\t\t\t}\n",
    "\t\t\t}else if(df_scorelist[positive[i]] > 50){\n",
    "\t\t\tj <- j + 1\n",
    "\t\t\t}\n",
    "\t\t\n",
    "}\n",
    "\n",
    "if(j > 3){\n",
    "\n",
    "if(str_detect(test_result,\"NEUTRAL\"))\t{\n",
    "\t\n",
    "\ttest_result <- \"POSITIVE\"\n",
    "     }else if(str_detect(test_result,\"NEGATIVE\")){\n",
    "  \t\n",
    "  \ttest_result <- \"NEUTRAL\" # both -ve and +ve are quite high\n",
    "\t}\n",
    " }\n",
    "j <- 0\n",
    "\n",
    "return(test_result)\t\t\n",
    "}\n",
    "\n"
   ]
  },
  {
   "cell_type": "code",
   "execution_count": null,
   "metadata": {
    "collapsed": false
   },
   "outputs": [],
   "source": [
    "printSchema(df2)"
   ]
  },
  {
   "cell_type": "code",
   "execution_count": null,
   "metadata": {
    "collapsed": false
   },
   "outputs": [],
   "source": [
    "authors <- as.data.frame(select(df2,\"userid\"))\n",
    "typeof(authors)"
   ]
  },
  {
   "cell_type": "code",
   "execution_count": null,
   "metadata": {
    "collapsed": false
   },
   "outputs": [],
   "source": [
    "nrow(authors)\n",
    "nrow(df2)"
   ]
  },
  {
   "cell_type": "code",
   "execution_count": null,
   "metadata": {
    "collapsed": false
   },
   "outputs": [],
   "source": [
    "print(authors)"
   ]
  },
  {
   "cell_type": "code",
   "execution_count": null,
   "metadata": {
    "collapsed": false
   },
   "outputs": [],
   "source": [
    "str_replace(paste(\"from:\",authors[3,1]), ' ','')"
   ]
  },
  {
   "cell_type": "code",
   "execution_count": null,
   "metadata": {
    "collapsed": false
   },
   "outputs": [],
   "source": [
    "setup_twitter_oauth(\"XXXX\",\"XXXX\",access_token=\"XXXX\",access_secret=\"XXXX\")"
   ]
  },
  {
   "cell_type": "code",
   "execution_count": null,
   "metadata": {
    "collapsed": true
   },
   "outputs": [],
   "source": [
    "#searchstring <- str_replace(paste(\"from:\",authors[3,1]), ' ','')\n",
    "\n",
    "searchstring <- str_replace(paste(\"from:\",\"kittentacos\"), ' ','')\n",
    "print(searchstring)\n",
    "tweets <- searchTwitter(searchstring, n=10, retryOnRateLimit = 1000)\n",
    "typeof(tweets)\n",
    "length(tweets)"
   ]
  },
  {
   "cell_type": "code",
   "execution_count": null,
   "metadata": {
    "collapsed": false
   },
   "outputs": [],
   "source": [
    "stddev <- function(dfclassify){\n",
    "    lastrow <- nrow(dfclassify)\n",
    "    summary <- data.frame(dfclassify[1,1],dfclassify[lastrow,3],dfclassify[lastrow,4],dfclassify[lastrow,5])\n",
    "    colnames(summary) <- c('Author','Positive','Negative','Neutral')\n",
    "    \n",
    "    for(i in 6:18){\n",
    "     sdvalue <- sd(dfclassify[,i])\n",
    "     meanvalue <- mean(dfclassify[,i])   \n",
    "        #print(dfclassify[i])\n",
    "        #print(sdvalue)\n",
    "     s <- data.frame(sdvalue)\n",
    "     colnames(s) <- paste(\"SD\",colnames(dfclassify[i]))\n",
    "     summary <- cbind(summary,s)   \n",
    "     \n",
    "     m <- data.frame(meanvalue)\n",
    "     colnames(m) <- paste(\"Mean\",colnames(dfclassify[i]))\n",
    "     summary <- cbind(summary,m)     \n",
    "    }\n",
    "    \n",
    "    return(summary)\n",
    "}"
   ]
  },
  {
   "cell_type": "code",
   "execution_count": null,
   "metadata": {
    "collapsed": false
   },
   "outputs": [],
   "source": [
    "classify <- data.frame()\n",
    "summarytw <- data.frame()\n",
    "\n",
    "for(j in 1:10){\n",
    "\n",
    "searchstring <- str_replace(paste(\"from:\",authors[j,1]), ' ','')\n",
    "\n",
    "#print(searchstring)\n",
    "tweets <- searchTwitter(searchstring, n=2)\n",
    "typeof(tweets)\n",
    "length(tweets)\n",
    "\n",
    "if(length(tweets) > 0){    \n",
    "textTweets <- laply(tweets, function(t) t$getText())\n",
    "\n",
    "#print(textTweets)\n",
    "pos <- 0\n",
    "neg <- 0\n",
    "neut <- 0\n",
    "\n",
    "    #classify <- data.frame(matrix(NA, nrow=length(tweets), ncol=18))\n",
    "   \n",
    "    classifytw <- data.frame()\n",
    "for(i in 1:length(tweets)){\n",
    "\t\n",
    "\t#print(textTweets[i])\n",
    "    \n",
    "\tdata <- tone_analyzer(textTweets[i])\n",
    "\n",
    "\tdf_scorelist <- compute_score(data)\n",
    "\t#print(df_scorelist)\n",
    "\t\n",
    "\ttone_result <- test_tone(df_scorelist)\n",
    "\t#print(tone_result)\n",
    "\t\n",
    "\tif(str_detect(tone_result,\"NEUTRAL\")){ neut <- neut + 1 }\n",
    "\tif(str_detect(tone_result,\"NEGATIVE\")){ neg <- neg + 1 }\n",
    "\tif(str_detect(tone_result,\"POSITIVE\")){ pos <- pos + 1 }\n",
    "\n",
    "    classifytweet <- data.frame(authors[j,1],textTweets[i], pos,neg,neut,df_scorelist)\n",
    "    classifytw <- rbind(classifytw,classifytweet)\n",
    "\t}\n",
    "\n",
    "    #print(\"Neutral Negative Positive are \")\n",
    "\t#print(neut)\n",
    "\t#print(neg)\n",
    "\t#print(pos)\n",
    "   \n",
    "   \n",
    "    \n",
    "   colnames(classifytw) <- c('Author','Tweet','Positive','Negative','Neutral', colnames(df_scorelist))   \n",
    "   classify <- rbind(classify,classifytw)\n",
    "   summarytw <- rbind(summarytw,stddev(classifytw))\n",
    " }   \n",
    "}    \n",
    "\n",
    "classify.table <- xtable(classify)\n",
    "print.xtable(classify.table, type=\"html\", file = \"\")\n",
    "                    \n",
    "print(\"Summary\")                    \n",
    "summarytw.table <- xtable(summarytw)\n",
    "print.xtable(summarytw.table, type=\"html\", file = \"\")"
   ]
  },
  {
   "cell_type": "code",
   "execution_count": null,
   "metadata": {
    "collapsed": false
   },
   "outputs": [],
   "source": [
    "print(\"<p>Summary</p>\",type=\"html\",file = \"\")"
   ]
  },
  {
   "cell_type": "code",
   "execution_count": null,
   "metadata": {
    "collapsed": false
   },
   "outputs": [],
   "source": [
    "print(textTweets[i])\n",
    "print(i)\n",
    "print(length(tweets))\n",
    "print(tweets)\n",
    "typeof(tweets)\n",
    "length(tweets)\n",
    "something <- laply(tweets, function(t) t$getText())\n",
    "    something\n",
    "    \n",
    " if(length(tweets) == 0){print(\"Equal \")   }"
   ]
  },
  {
   "cell_type": "code",
   "execution_count": null,
   "metadata": {
    "collapsed": false
   },
   "outputs": [],
   "source": [
    "getwd()"
   ]
  },
  {
   "cell_type": "code",
   "execution_count": null,
   "metadata": {
    "collapsed": false
   },
   "outputs": [],
   "source": [
    "list.files('/gpfs/global_fs01/sym_shared/YPProdSpark/user/s9d7-8f4b908f520f55-4137fa4057f6/notebook/work')"
   ]
  },
  {
   "cell_type": "code",
   "execution_count": null,
   "metadata": {
    "collapsed": false
   },
   "outputs": [],
   "source": [
    "print(classify)"
   ]
  },
  {
   "cell_type": "code",
   "execution_count": null,
   "metadata": {
    "collapsed": false
   },
   "outputs": [],
   "source": [
    "classify"
   ]
  },
  {
   "cell_type": "code",
   "execution_count": null,
   "metadata": {
    "collapsed": true
   },
   "outputs": [],
   "source": [
    "unlink('/gpfs/global_fs01/sym_shared/YPProdSpark/user/s9d7-8f4b908f520f55-4137fa4057f6/notebook/work/ClassifyTweets.html')"
   ]
  },
  {
   "cell_type": "code",
   "execution_count": null,
   "metadata": {
    "collapsed": true
   },
   "outputs": [],
   "source": []
  }
 ],
 "metadata": {
  "kernelspec": {
   "display_name": "R with Spark 1.6",
   "language": "R",
   "name": "r"
  },
  "language_info": {
   "codemirror_mode": "r",
   "file_extension": ".r",
   "mimetype": "text/x-r-source",
   "name": "R",
   "pygments_lexer": "r",
   "version": "3.3.0"
  }
 },
 "nbformat": 4,
 "nbformat_minor": 0
}
